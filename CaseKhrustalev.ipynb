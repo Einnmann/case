{
 "cells": [
  {
   "cell_type": "code",
   "execution_count": 1,
   "metadata": {},
   "outputs": [],
   "source": [
    "import pandas as pd \n",
    "import matplotlib.pyplot as plt\n",
    "import numpy as np"
   ]
  },
  {
   "cell_type": "markdown",
   "metadata": {},
   "source": [
    "# Рассмотрим производство бобов в Индии в период с 1961 года по 2016 год."
   ]
  },
  {
   "cell_type": "code",
   "execution_count": 2,
   "metadata": {},
   "outputs": [],
   "source": [
    "beans = pd.read_csv('beans.csv') # 1961 - 2016 years\n",
    "data = beans.loc[0:55,['Value', 'Year']]\n",
    "data = data.reset_index()\n",
    "data = data.drop(columns=['index', 'Year'])\n",
    "data['Rice'] = data['Value']\n",
    "data = data.drop(columns=['Value'])"
   ]
  },
  {
   "cell_type": "markdown",
   "metadata": {},
   "source": [
    "Возьмем данные событий, влияющих на производство бобов, таких как: прогноз погоды, "
   ]
  },
  {
   "cell_type": "code",
   "execution_count": 3,
   "metadata": {},
   "outputs": [],
   "source": [
    "forecast = pd.read_csv('forecast.csv')\n",
    "forecast = forecast.loc[60:115,:]\n",
    "forecast = forecast.drop(columns=['YEAR', 'Actual Rainfall: JUN', 'Actual Rainfall: JUL', 'Actual Rainfall: AUG',\n",
    "                                 'Actual Rainfall: SEPT', 'Departure Percentage: JUN','Departure Percentage: JUL',\n",
    "                                 'Departure Percentage: AUG','Departure Percentage: SEP','Departure Percentage: JUN-SEPT'  ])\n",
    "forecast = forecast.rename(index=str, columns={\"Actual Rainfall: JUN-SEPT\": \"R\"})\n",
    "forecast = forecast.reset_index()\n",
    "forecast = forecast.drop(columns=['index'])\n",
    "data['Forecast'] = forecast"
   ]
  },
  {
   "cell_type": "markdown",
   "metadata": {},
   "source": [
    "число живущих людей за городом,"
   ]
  },
  {
   "cell_type": "code",
   "execution_count": 4,
   "metadata": {},
   "outputs": [],
   "source": [
    "ruralpop = pd.read_csv('Ruralpop.csv')\n",
    "ruralpop = ruralpop.drop(columns=['Domain', 'Area', 'Element', 'Item', 'Year', 'Unit', 'Note'])\n",
    "data['Rural Population'] = ruralpop"
   ]
  },
  {
   "cell_type": "markdown",
   "metadata": {},
   "source": [
    "число живущих людей в городе, "
   ]
  },
  {
   "cell_type": "code",
   "execution_count": 5,
   "metadata": {},
   "outputs": [],
   "source": [
    "urbanpop = pd.read_csv('Urbanpop.csv')\n",
    "urbanpop = urbanpop.drop(columns=['Domain', 'Area', 'Element', 'Item', 'Year', 'Unit', 'Note'])\n",
    "data['Urban Population'] = urbanpop"
   ]
  },
  {
   "cell_type": "markdown",
   "metadata": {},
   "source": [
    "количество пахотных земель,"
   ]
  },
  {
   "cell_type": "code",
   "execution_count": 6,
   "metadata": {},
   "outputs": [],
   "source": [
    "land = pd.read_csv('ArableLand.csv')\n",
    "land = land.drop(columns=['Domain', 'Area', 'Element', 'Item', 'Year', 'Unit'])\n",
    "data['Arable Land'] = land"
   ]
  },
  {
   "cell_type": "markdown",
   "metadata": {},
   "source": [
    "популяцию козлов,"
   ]
  },
  {
   "cell_type": "code",
   "execution_count": 7,
   "metadata": {},
   "outputs": [],
   "source": [
    "goats = pd.read_csv('Goats.csv')\n",
    "goats = goats.drop(columns=['Domain', 'Area', 'Element', 'Item', 'Year', 'Unit'])\n",
    "data['Goats'] = goats"
   ]
  },
  {
   "cell_type": "markdown",
   "metadata": {},
   "source": [
    "среднегодовую температуру,"
   ]
  },
  {
   "cell_type": "code",
   "execution_count": 8,
   "metadata": {},
   "outputs": [],
   "source": [
    "temp = pd.read_csv('temp.csv')\n",
    "temp = temp.drop(columns=['Domain', 'Area', 'Element', 'Months', 'Year', 'Unit'])\n",
    "data['Temperature'] = temp\n"
   ]
  },
  {
   "cell_type": "markdown",
   "metadata": {},
   "source": [
    "количество пестицидов. "
   ]
  },
  {
   "cell_type": "code",
   "execution_count": 35,
   "metadata": {},
   "outputs": [],
   "source": [
    "pest = pd.read_csv('Pesticides.csv')\n",
    "pest = pest.drop(columns=['Domain', 'Area', 'Element', 'Item', 'Year', 'Unit'])\n",
    "data['Pesticides'] = pest"
   ]
  },
  {
   "cell_type": "markdown",
   "metadata": {},
   "source": [
    "Ошибка:"
   ]
  },
  {
   "cell_type": "code",
   "execution_count": 25,
   "metadata": {},
   "outputs": [
    {
     "name": "stdout",
     "output_type": "stream",
     "text": [
      "-809.1401765629455\n"
     ]
    }
   ],
   "source": [
    "from sklearn.model_selection import cross_val_score\n",
    "from sklearn.linear_model import LinearRegression\n",
    "\n",
    "Xs = data.drop(['Rice'], axis=1)\n",
    "y = data['Rice'].values.reshape(-1,1)\n",
    "\n",
    "lin_reg = LinearRegression()\n",
    "\n",
    "MAEs = cross_val_score(lin_reg, Xs, y, scoring='neg_mean_absolute_error', cv=5)\n",
    "\n",
    "mean_MAE = np.mean(MAEs)\n",
    "\n",
    "print(mean_MAE)"
   ]
  },
  {
   "cell_type": "markdown",
   "metadata": {},
   "source": [
    "Feature importance (overall):"
   ]
  },
  {
   "cell_type": "code",
   "execution_count": 33,
   "metadata": {
    "scrolled": true
   },
   "outputs": [],
   "source": [
    "reg = LinearRegression().fit(Xs, y)\n",
    "#reg.score(Xs, y)\n",
    "a = reg.coef_\n",
    "a = np.split(a, 7, 1)\n",
    "a = np.asarray(a)\n",
    "k = a.argmax()\n",
    "#k,a"
   ]
  },
  {
   "cell_type": "markdown",
   "metadata": {},
   "source": [
    "Feature importance (years): - определим на каких временных промежутках какие параметры были важнее"
   ]
  },
  {
   "cell_type": "code",
   "execution_count": 34,
   "metadata": {
    "scrolled": false
   },
   "outputs": [],
   "source": [
    "for i in range(0,56):\n",
    "    data5 = data.loc[i:i+1, :]\n",
    "    Xs5 = data5.drop(['Rice'], axis=1)\n",
    "    y5 = data5['Rice'].values.reshape(-1,1)\n",
    "    reg = LinearRegression().fit(Xs5, y5)\n",
    "    a = reg.coef_\n",
    "    a = np.split(a, 7, 1)\n",
    "    a = np.asarray(a)\n",
    "    k = a.argmax()\n",
    "    p = pd.DataFrame()\n",
    "    p = 1961+i\n",
    "    #print(k,p)\n"
   ]
  }
 ],
 "metadata": {
  "kernelspec": {
   "display_name": "Python 3",
   "language": "python",
   "name": "python3"
  },
  "language_info": {
   "codemirror_mode": {
    "name": "ipython",
    "version": 3
   },
   "file_extension": ".py",
   "mimetype": "text/x-python",
   "name": "python",
   "nbconvert_exporter": "python",
   "pygments_lexer": "ipython3",
   "version": "3.6.7"
  }
 },
 "nbformat": 4,
 "nbformat_minor": 2
}
